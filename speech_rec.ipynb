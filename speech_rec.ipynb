{
 "cells": [
  {
   "cell_type": "markdown",
   "id": "6cd5b2d3-75a4-42d1-ba00-ca4d2e26e8fc",
   "metadata": {},
   "source": [
    "# Speech Recognition Pipeline"
   ]
  },
  {
   "cell_type": "markdown",
   "id": "5e899f83-f6c1-407f-bd4b-0231e39e5969",
   "metadata": {},
   "source": [
    "### Job Parameters"
   ]
  },
  {
   "cell_type": "code",
   "execution_count": 16,
   "id": "abf4ef1e-35bd-4d68-93ba-cee7fa0e3600",
   "metadata": {},
   "outputs": [],
   "source": [
    "from pathlib import Path\n",
    "import os\n",
    "\n",
    "output_dir = 'output'\n",
    "input_video_file = r\"<path to video file>\"\n",
    "whisper_model = 'small.en' # replace with 'medium.en' for higher quality\n",
    "translation_model = 'facebook/m2m100_1.2B'\n",
    "transcription_file = os.path.join(output_dir, Path(input_video_file).stem + \".yaml\")\n",
    "\n",
    "os.makedirs(output_dir, exist_ok = True)"
   ]
  },
  {
   "cell_type": "markdown",
   "id": "63facb57-08e5-4a70-a194-5b9a5eceeadb",
   "metadata": {},
   "source": [
    "### Transcribe Video"
   ]
  },
  {
   "cell_type": "code",
   "execution_count": 5,
   "id": "df2c7c1c-bc05-433f-9c88-2a7cdbf4759a",
   "metadata": {
    "tags": []
   },
   "outputs": [
    {
     "name": "stderr",
     "output_type": "stream",
     "text": [
      "/Users/istvanfodor/Documents/Projects/github/translation-test/venv/lib/python3.9/site-packages/whisper/timing.py:58: NumbaDeprecationWarning: The 'nopython' keyword argument was not supplied to the 'numba.jit' decorator. The implicit default value for this argument is currently False, but it will be changed to True in Numba 0.59.0. See https://numba.readthedocs.io/en/stable/reference/deprecation.html#deprecation-of-object-mode-fall-back-behaviour-when-using-jit for details.\n",
      "  def backtrace(trace: np.ndarray):\n"
     ]
    },
    {
     "name": "stdout",
     "output_type": "stream",
     "text": [
      "Whisper model loaded\n",
      "MoviePy - Writing audio in /var/folders/1p/_2rt4pbn5md6j36m4vppk8d00000gn/T/tmp_tryp_sv/1. Francis Intro.mp3\n"
     ]
    },
    {
     "name": "stderr",
     "output_type": "stream",
     "text": [
      "                                                                                                                                  \r"
     ]
    },
    {
     "name": "stdout",
     "output_type": "stream",
     "text": [
      "MoviePy - Done.\n"
     ]
    },
    {
     "name": "stderr",
     "output_type": "stream",
     "text": [
      "100%|██████████████████████████████████████████████████████████████████████████████████| 14927/14927 [00:25<00:00, 574.20frames/s]\n"
     ]
    }
   ],
   "source": [
    "from transcribe import transcribe_video\n",
    "transcribe_result = transcribe_video(input_video_file, whisper_model)"
   ]
  },
  {
   "cell_type": "code",
   "execution_count": 9,
   "id": "a6619ffa-497e-45ec-abff-0fb155b416fd",
   "metadata": {
    "tags": []
   },
   "outputs": [],
   "source": [
    "import yaml\n",
    "with open(transcription_file, 'w', encoding = 'utf-8') as f :\n",
    "    f.write(yaml.dump(transcribe_result, default_flow_style=False, indent=2))"
   ]
  },
  {
   "cell_type": "markdown",
   "id": "1dc3ce98-283e-42e0-808a-d89c79624711",
   "metadata": {},
   "source": [
    "### Translate Video to Spanish"
   ]
  },
  {
   "cell_type": "code",
   "execution_count": 17,
   "id": "50c97778-dd04-4724-93f0-79346cd144f0",
   "metadata": {},
   "outputs": [
    {
     "ename": "FileNotFoundError",
     "evalue": "[Errno 2] No such file or directory: 'output/<path to video file>.yaml'",
     "output_type": "error",
     "traceback": [
      "\u001b[0;31m---------------------------------------------------------------------------\u001b[0m",
      "\u001b[0;31mFileNotFoundError\u001b[0m                         Traceback (most recent call last)",
      "Cell \u001b[0;32mIn[17], line 2\u001b[0m\n\u001b[1;32m      1\u001b[0m \u001b[38;5;28;01mfrom\u001b[39;00m \u001b[38;5;21;01mtranslate\u001b[39;00m \u001b[38;5;28;01mimport\u001b[39;00m translate_whisper_transcript\n\u001b[0;32m----> 2\u001b[0m translate_result \u001b[38;5;241m=\u001b[39m \u001b[43mtranslate_whisper_transcript\u001b[49m\u001b[43m(\u001b[49m\u001b[43mtranscription_file\u001b[49m\u001b[43m,\u001b[49m\u001b[43m \u001b[49m\u001b[43mlanguage\u001b[49m\u001b[43m \u001b[49m\u001b[38;5;241;43m=\u001b[39;49m\u001b[43m \u001b[49m\u001b[38;5;124;43m'\u001b[39;49m\u001b[38;5;124;43mes\u001b[39;49m\u001b[38;5;124;43m'\u001b[39;49m\u001b[43m,\u001b[49m\u001b[43m \u001b[49m\u001b[43mmodel\u001b[49m\u001b[43m \u001b[49m\u001b[38;5;241;43m=\u001b[39;49m\u001b[43m \u001b[49m\u001b[43mtranslation_model\u001b[49m\u001b[43m)\u001b[49m\n",
      "File \u001b[0;32m~/Documents/Projects/github/translation-test/translate.py:19\u001b[0m, in \u001b[0;36mtranslate_whisper_transcript\u001b[0;34m(transcription_file, language, model, batch_size)\u001b[0m\n\u001b[1;32m     15\u001b[0m     device \u001b[38;5;241m=\u001b[39m \u001b[38;5;241m-\u001b[39m\u001b[38;5;241m1\u001b[39m\n\u001b[1;32m     17\u001b[0m pipe \u001b[38;5;241m=\u001b[39m pipeline(task\u001b[38;5;241m=\u001b[39m\u001b[38;5;124m'\u001b[39m\u001b[38;5;124mtext2text-generation\u001b[39m\u001b[38;5;124m'\u001b[39m, model\u001b[38;5;241m=\u001b[39mmodel, device \u001b[38;5;241m=\u001b[39m device)\n\u001b[0;32m---> 19\u001b[0m \u001b[38;5;28;01mwith\u001b[39;00m \u001b[38;5;28;43mopen\u001b[39;49m\u001b[43m(\u001b[49m\u001b[43mtranscription_file\u001b[49m\u001b[43m,\u001b[49m\u001b[43m \u001b[49m\u001b[38;5;124;43m'\u001b[39;49m\u001b[38;5;124;43mr\u001b[39;49m\u001b[38;5;124;43m'\u001b[39;49m\u001b[43m)\u001b[49m \u001b[38;5;28;01mas\u001b[39;00m stream:\n\u001b[1;32m     20\u001b[0m     \u001b[38;5;28;01mtry\u001b[39;00m:\n\u001b[1;32m     21\u001b[0m         transcript \u001b[38;5;241m=\u001b[39m yaml\u001b[38;5;241m.\u001b[39msafe_load(stream)\n",
      "\u001b[0;31mFileNotFoundError\u001b[0m: [Errno 2] No such file or directory: 'output/<path to video file>.yaml'"
     ]
    }
   ],
   "source": [
    "from translate import translate_whisper_transcript\n",
    "translate_result = translate_whisper_transcript(transcription_file, language = 'es', model = translation_model)"
   ]
  },
  {
   "cell_type": "code",
   "execution_count": 12,
   "id": "c02a20a6-e79c-4968-8ed7-fd4e7975666c",
   "metadata": {},
   "outputs": [],
   "source": [
    "for i, segment in enumerate(transcribe_result['segments']):\n",
    "    segment['text_es'] = translate_result[i]"
   ]
  },
  {
   "cell_type": "markdown",
   "id": "c70c6aaf-4999-4790-bde5-2cedb095d1e3",
   "metadata": {},
   "source": [
    "### Create VTT files"
   ]
  },
  {
   "cell_type": "code",
   "execution_count": 14,
   "id": "55dfdabd-71bb-4d69-89a3-5d003ef420a5",
   "metadata": {},
   "outputs": [],
   "source": [
    "import create_vtt\n",
    "import importlib\n",
    "importlib.reload(create_vtt)\n",
    "from create_vtt import create_vtts\n",
    "\n",
    "create_vtts(output_dir, Path(input_video_file).stem, transcribe_result, languages = ['en', 'es'])"
   ]
  }
 ],
 "metadata": {
  "kernelspec": {
   "display_name": "Python 3 (ipykernel)",
   "language": "python",
   "name": "python3"
  },
  "language_info": {
   "codemirror_mode": {
    "name": "ipython",
    "version": 3
   },
   "file_extension": ".py",
   "mimetype": "text/x-python",
   "name": "python",
   "nbconvert_exporter": "python",
   "pygments_lexer": "ipython3",
   "version": "3.9.15"
  }
 },
 "nbformat": 4,
 "nbformat_minor": 5
}
